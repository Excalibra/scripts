{
 "cells": [
  {
   "attachments": {},
   "cell_type": "markdown",
   "metadata": {},
   "source": [
    "# Research on Bilibili’s Generation Z Users and Social Trends\n",
    "\n",
    "Bilibili, often nicknamed 'B-Station,' is a prominent Chinese video-sharing platform popular among younger generations, especially Generation Z. Known for its strong focus on animation, comics, games, and other subcultures, it features interactive tools like real-time comment overlays called 'bullet screens.' These cultural and technological elements make Bilibili a rich ground for studying user behaviour and discourse.\n",
    "\n",
    "Social and livelihood topics are vast and varied, making them less suitable for quantitative analysis of Bilibili's Generation Z users. However, focusing on specific research samples such as 'ACGN (Anime, Comic, Game, Novel)' or certain romantic pairing fandoms (often referred to as 'CP' or *couple pairings*) to conduct targeted characteristic analysis is undoubtedly a valuable breakthrough. Upon reviewing several studies, keywords commonly mentioned in articles about the distinctive discourse of Generation Z include: 'interest-based communities,' 'group identity,' 'subcultural circles,' 'deconstruction and reconstruction,' and 'James Carey.' Here, romantic pairing fandoms serve as a starting point. As individuals in society, personal preferences and expertise are often diverse and fragmented.\n",
    "\n",
    "Regarding the intrinsic motivation of residual pleasure, researchers mention: 'The reasons are naturally multifaceted—boredom in real life, the drive of desire, the pursuit of play... However, one fundamental cause is the audience's mistrust in the \"reality\"/\"truth\" and the values and emotions it represents and promises, leading them to immerse themselves in virtual or artificial emotions instead. The charm of watching romance films in cinemas lies in how they rationally and visually present those deep-seated, private emotions that resonate within individuals. The cinema, with its darkened setting and glowing screen, becomes an ideal venue for enjoying the release of private emotions.' [<span id=\"fn1\">(Shi Xiaoxi, 2022)</span>](#fn1-black)\n",
    "\n",
    "Postemotionalism is a theory proposed by the American sociologist Stjepan G. Metrovic. 'Postemotion' differs from genuine human emotions, referring instead to 'new emotions that are intellectualised, mechanised, and mass-produced by the media.' Authentic emotions are alienated into substitute or virtual emotions ('postemotion'), becoming commodities mass-produced and sold by the culture industry. [<span id=\"fn1\">(Shi Xiaoxi, 2022)</span>](#fn1-black)\n",
    "\n",
    "In the era of postemotionalism, 'emotions no longer need to point to the ultimate objective truth of the past but merely satisfy the public's pursuit of pleasure.' Artistic works no longer draw from reality or express genuine human emotions but instead create suspended 'love myths' to foster 'artificial desires,' satisfying public pleasure. The public no longer needs to invest effort in establishing and maintaining intimate relationships; instead, they can gain a pseudo-emotional experience that transcends daily life simply by consuming media products. [<span id=\"fn1\">(Shi Xiaoxi, 2022)</span>](#fn1-black)\n",
    "\n",
    "Aside from romantic pairing fandoms, cute pet videos exemplify a tangible manifestation of postemotionalism. As consumer products of the new media era, cute pet videos provide emotional solace through sound and visuals, aggregating interest-based communities to construct a shared sense of immersion and companionship. The regenerative pleasure of symbolic meanings ultimately achieves a combination of empathy and emotional resonance. [<span id=\"fn2\">(Yao Shuxin, 2022)</span>](#fn2-black)\n",
    "\n",
    "Empathetic involvement refers to users exaggerating or extending their relationship with popular online cats into models of real interpersonal relationships within their subjective consciousness. The empathetic effect is often vividly reflected in the bullet screen interactions during video playback. [<span id=\"fn2\">(Yao Shuxin, 2022)</span>](#fn2-black)\n",
    "\n",
    "Resonant involvement refers to the psychological resonance users feel while observing the interactions between creators and cats or participating in the cultural consumption of the cats' life journey. Resonant involvement often requires specific triggers, such as health risks (e.g., cats falling ill, giving birth, or passing away) or commemorative events (e.g., a cat moving to a new home or celebrating a birthday). [<span id=\"fn2\">(Yao Shuxin, 2022)</span>](#fn2-black)\n",
    "\n",
    "Overall, the postemotionalism era reveals the multifaceted nature of human emotional experiences. From the interviewees' quotes on romantic pairing fandoms and cute pets, some interviewees demonstrate simplistic and idealised thinking. This is unreliable and should not be generalised. A more practical viewpoint is that some interviewees may be indifferent to such information or lack deep recognition and awareness in this area. Additionally, this data cannot conclusively determine the emotions, thoughts, or behavioural logic of the interviewees. Instead, it highlights correlations that require further exploration to uncover underlying truths and logic, which demand time and effort.\n",
    "\n",
    "Socially trending topics, influenced by people's diverse backgrounds and the information overload caused by the self-media era, require additional segmentation of discussion points, categorisation of data, specialisation, and comprehensive multi-dimensional analysis, all of which present significant challenges.\n",
    "\n",
    "Nevertheless, analysing Bilibili's comments and bullet screens regarding societal events—through prior research on popular headlines, Weibo, and Douyin hot topics, as well as user comment analyses in related literature [<span id=\"fn3\">(Huang Jun, 2021)</sup>](#fn3-black)—is highly meaningful and valuable."
   ]
  },
  {
   "attachments": {},
   "cell_type": "markdown",
   "metadata": {},
   "source": [
    "## References\n",
    "\n",
    "[<span id=\"fn1-black\">[1]</span>](#fn1) Shi Xiaoxi, 'The Dual Media Characteristics and Cultural Logic of \"Regenerative Images\"—A Case Study of Pairing-Oriented Mashup Videos on Bilibili', *Film Literature*, 2022 Issue 23, p. 27 <br>\n",
    "[<span id=\"fn2-black\">[2]</span>](#fn2) Yao Shuxin, 'The Sonic Performance and Emotional Engagement of Cute Pet Videos—An Analysis Based on Bilibili Cat Videos', *New Media Observations*, 2022 Issue 23, p. 100 <br>\n",
    "[<span id=\"fn3-black\">[3]</span>](#fn3) Huang Jun, 'Exploration of Emotional Impact and Behavioural Responses to Workplace Abuse—A Study Based on the Dissemination of TikTok, Weibo, and Bilibili', *Communication Innovation Research (Fourth Edition)*, December 2021, p. 160 <br>"
   ]
  }
 ],
 "metadata": {
  "language_info": {
   "name": "python"
  },
  "orig_nbformat": 4
 },
 "nbformat": 4,
 "nbformat_minor": 2
}
