{
 "cells": [
  {
   "attachments": {},
   "cell_type": "markdown",
   "metadata": {},
   "source": [
    "## 0x01\n",
    "\n",
    "Linux Migration Windows command tools:\n",
    "\n",
    "- [cygwin](http://www.cygwin.com/) subsystem\n",
    "- [gnuwin32](http://gnuwin32.sourceforge.net/), [minGW](http://www.mingw.org/) maintain the native environment, providing similar solutions where possible\n",
    "\n",
    "Python environment issues:\n",
    "\n",
    "- pyenv+pipx+poetry\n",
    "  - pyenv allows flexible installation and switching of python versions, paired with poetry for quick environment setup with the corresponding version.\n",
    "  - pipx is a useful tool for upgrading dependencies, without worrying about global compatibility issues.\n",
    "  - Compiled programs usually depend on various packages, which need to be installed as per the developer's instructions.\n",
    "- Miniconda, Anaconda and similar Python distributions provide complete dependencies.\n",
    "\n",
    "Jupyter footnote issues: [jupyter/notebook#1287 (comment)](https://github.com/jupyter/notebook/issues/1287#issuecomment-451080550), also note that such methods require downloading files locally to function properly.\n",
    "\n",
    "## 0x02\n",
    "\n",
    "Install brew"
   ]
  },
  {
   "cell_type": "code",
   "execution_count": null,
   "metadata": {
    "vscode": {
     "languageId": "shellscript"
    }
   },
   "outputs": [],
   "source": [
    "/bin/bash -c \"$(curl -fsSL https://gitee.com/ineo6/homebrew-install/raw/master/install.sh)\""
   ]
  },
  {
   "attachments": {},
   "cell_type": "markdown",
   "metadata": {},
   "source": [
    "Install ruby"
   ]
  },
  {
   "cell_type": "code",
   "execution_count": null,
   "metadata": {
    "vscode": {
     "languageId": "shellscript"
    }
   },
   "outputs": [],
   "source": [
    "brew install ruby\n",
    "echo 'export PATH=\"/opt/homebrew/opt/ruby/bin:$PATH\"' >> ~/.zshrc"
   ]
  },
  {
   "attachments": {},
   "cell_type": "markdown",
   "metadata": {},
   "source": [
    "Chrome driver compatibility issues:\n",
    "\n",
    "Python manages automatic upgrades with a manager"
   ]
  },
  {
   "cell_type": "code",
   "execution_count": null,
   "metadata": {},
   "outputs": [],
   "source": [
    "from selenium import webdriver\n",
    "from webdriver_manager.chrome import ChromeDriverManager\n",
    "driver = webdriver.Chrome(ChromeDriverManager().install())"
   ]
  },
  {
   "attachments": {},
   "cell_type": "markdown",
   "metadata": {},
   "source": [
    "Install chromedriver with brew"
   ]
  },
  {
   "cell_type": "code",
   "execution_count": null,
   "metadata": {
    "vscode": {
     "languageId": "shellscript"
    }
   },
   "outputs": [],
   "source": [
    "which chromedriver\n",
    "brew install chromedriver\n",
    "brew upgrade chromedriver\n",
    "chromedriver --version"
   ]
  }
 ],
 "metadata": {
  "kernelspec": {
   "display_name": "Python 3",
   "language": "python",
   "name": "python3"
  },
  "language_info": {
   "codemirror_mode": {
    "name": "ipython",
    "version": 3
   },
   "file_extension": ".py",
   "mimetype": "text/x-python",
   "name": "python",
   "nbconvert_exporter": "python",
   "pygments_lexer": "ipython3",
   "version": "3.11.4"
  },
  "orig_nbformat": 4
 },
 "nbformat": 4,
 "nbformat_minor": 2
}
