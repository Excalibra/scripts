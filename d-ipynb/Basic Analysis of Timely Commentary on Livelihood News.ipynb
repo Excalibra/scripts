{
 "cells": [
  {
   "attachments": {},
   "cell_type": "markdown",
   "metadata": {},
   "source": [
    "## Livelihood News, Taking '1818 Golden Eyes' as an Example\n",
    "\n",
    "Although I personally watch '1818 Golden Eyes' less often, I have watched it about five times in total. For convenience, I will refer to '1818 Golden Eyes' as 'Golden Eyes'. As for myself, my viewing time is mainly focused on the content provided by 'Golden Eyes', without much thought on its selection of topics or materials. Looking back at past episodes of 'Golden Eyes', the headlines of its news stories are usually in the form of questions or statements about event disputes; the video length is typically under 10 minutes, with 2–3 videos or more released per day. [<span id=\"fn1\">Tan Yuying (2021.8)</span>](#fn1-black) argued that 'Golden Eyes' added a concentration on street fun, urban oddities, and celebrity anecdotes to traditional livelihood news, making it easy for viewers to frequently switch information elements, satisfying their curiosity and presenting fragmented content. Overall, this summary of 'Golden Eyes' is accurate.\n",
    "\n",
    "People from different regions, often facing similar life dilemmas and social disputes in the unidimensional modern society, can easily resonate emotionally when typical examples of livelihood issues are reported by the media, even across regions. This means that local livelihood news has the potential to go viral if it captures the commonality of the times in its content selection and meets the demands of modern communication. Local livelihood programs should maintain journalistic integrity, focus on local features, delve into content strengths, respect market trends, and seek new opportunities for development in online platforms.\n",
    "\n",
    "As mentioned above, [<span id=\"fn1\">Tan Yuying (2021.8)</span>](#fn1-black) generally affirms and recognizes the 'Golden Eyes' program. The program's breakout appeal attracted a new generation of users, expanding their perspectives while enhancing their social awareness. From a listener's perspective, 'Golden Eyes' reflects many hot livelihood topics, serving as a program focused on the public's welfare. From the media development perspective, it addresses the accelerated life pace, changing reading habits, and scattered attention issues, reflecting on the realities of society. This, on a macro level, mirrors the evolution of livelihood news in postmodern society."
   ]
  },
  {
   "attachments": {},
   "cell_type": "markdown",
   "metadata": {},
   "source": [
    "## Analysis of the Phenomenon of Opinion Distraction, Taking '1818 Golden Eyes' Xiao Zhang's Rise to Fame as an Example\n",
    "\n",
    "As [<span id=\"fn2\">Shang Jinxuan (2021)</span>](#fn2-black) quotes [<span id=\"fn3\">Yan Lihua (2016)</span>](#fn3-black)'s definition: 'Due to the development of the internet, the public's right to know and voice has increased, and it has become difficult for any single party to dominate public opinion in an event. This leads to the phenomenon where the subject of the public opinion deviates from the central theme of the event, showing a polarized development.' In simple terms, distraction here means deviation from the topic.\n",
    "\n",
    "[<span id=\"fn2\">Shang Jinxuan (2021)</span>](#fn2-black) analyzes the causes of distraction with the following three points as a structural summary, but the narration is typically in a general-to-specific structure. When people summarize events, it is often in a specific-to-general order, which is something to note.\n",
    "\n",
    "1. The 'attention economy' era and the survival rule of 'traffic is king' breed distracted news reporting.\n",
    "2. Innovative program content and viral distribution channels act as catalysts for opinion distraction.\n",
    "3. Audiences in risk societies assign entertainment value to news programs, leading to a deviation in news direction.\n",
    "\n",
    "Brief mention of key phrases for the specific analysis of the above three points:\n",
    "\n",
    "1. 'Attention economy', 'traffic is king', 'looks', 'pleasure', 'attention', 'discussion', 'money', 'chips'\n",
    "2. '[Elite-ization](https://baike.baidu.com/item/精英文化/11042927?fromtitle=精英化&fromid=16795454&fr=aladdin) to [popularization](https://baike.baidu.com/item/平民化/6949324?fr=ge_ala)', 'seriousness to entertainment', 'laughable', 'absurd', 'viral spread', 'large user base', 'unequal media literacy'\n",
    "3. Being in a risk society, rejection of serious content, relieving anxiety, entertainment, pleasure, and satisfying voyeuristic desires.\n",
    "\n",
    "Thus, this can also explain my previous question, 'Why do I see colleagues handling work matters efficiently, but when it comes to TV dramas or news, they seem to just follow the crowd, lacking insight, almost like fools?' In general, the phenomenon of opinion distraction is inevitable and normal. Users' curiosity-driven clicks on news headlines and their lack of patience for waiting or deeply thinking about events no longer align with the expectations of some audiences. With limited attention and energy, these users shift to other more talkative and entertaining discussions, popcorn-like leisure entertainment (gossip) to relieve stress and gain pleasure."
   ]
  },
  {
   "attachments": {},
   "cell_type": "markdown",
   "metadata": {},
   "source": [
    "## Online Commentaries - Taking 'Good Night News' as an Example\n",
    "\n",
    "From Chen Jiawei (2021), the 76th episode of 'Good Night News' regarding the [Wuhan Software College cleaning up student dormitory issues] was poorly investigated and biased, leading to much opposition and ongoing controversy among university students. But I watched the 76th episode of 'Good Night News' [Why rewarding those who proactively admit their illness is beneficial for epidemic control?](https://btnews.ktlab.io/btnews/idx/0076/) and the event mentioned, leading to opposition from most students, which is hard to say. The speaking rights are usually represented by the powerful school authorities, who often divide the interests of the majority of students in the name of national unity and collective benefits. However, in this age that emphasizes individuality and self-interest, such an approach may not win the recognition or support of most students' indignation, but instead evoke sympathy and voluntary assistance.\n",
    "\n",
    "Chen Jiawei (2021): 'Good Night News' adheres to rational and de-emotionalized thinking, delving into the deeper layers of news events, calming audience anger and grievances, easing social contradictions, and prompting discussions about grassroots governance from relevant events, achieving good results. This shows the necessity of online commentaries, and to some extent, 'Good Night News' has built a bridge for exploratory communication between the public, society, and economics. Looking to the future, it proposes forward-looking solutions and helps to awaken public wisdom. However, an important point is emphasized: the goal of awakening public wisdom is to equip everyone with critical thinking, the ability to think independently and analyze issues objectively, without being misled or deceived. It emphasizes the need for societal progress, rather than devaluing the public's ability or worth.\n",
    "\n",
    "[<span id=\"fn4\">Chen Jiawei (2021)</span>](#fn4-black), [<span id=\"fn5\">He Xin (2021)</span>](#fn5-black) both analyzed the objective limitations of 'Good Night News.' Based on the team size and content diversity of 'Good Night News,' the team's professional capabilities have limitations, making it difficult to stabilize the quality of the program's periodic updates. He Xin's approach to 'Good Night News' is more of a learning research focus, with an emphasis on the implications for the development of self-media commentary, and fewer constructive suggestions. Chen Jiawei states: 'As a self-media current affairs commentary program with some influence, 'Good Night News' advocates materialism, seeks truth from facts, and centers on the people. In this epidemic report, it leveraged its own advantages, developed in a differentiated way from mainstream media, and achieved complementary advantages. Through explaining reporting frameworks, it scientifically and rationally analyzed various public opinion hotspots, guided the audience to produce positive emotions, alleviated social contradictions, and proposed feasible future solutions, highlighting the problem and action-oriented direction of constructive news. However, it still has many shortcomings. Self-media workers need to improve their professionalism, strengthen authoritative sources, invite professional experts to oversee, improve the program format, and appropriately coordinate the sensitive relationship between commercial marketing and constructive news to better play the role of self-media in reporting major public events.' His analysis hits the mark in terms of the overall positive development direction of self-media commentary."
   ]
  },
  {
   "attachments": {},
   "cell_type": "markdown",
   "metadata": {},
   "source": [
    "## Miscellaneous\n",
    "\n",
    "### ChatGPT Refinement:\n",
    "\n",
    "[<span id=\"fn4\">Chen Jiawei (2021)</span>](#fn4-black), [<span id=\"fn5\">He Xin (2021)</span>](#fn5-black) both analyzed the objective limitations of 'Good Night News.' Based on the team size and content diversity of 'Good Night News,' the team's professional capabilities have limitations, making it difficult to stabilize the quality of the program's periodic updates. He Xin's approach to 'Good Night News' is more of a learning research focus, with an emphasis on the implications for the development of self-media commentary, and fewer constructive suggestions. Chen Jiawei states: 'As a self-media current affairs commentary program with some influence, 'Good Night News' advocates materialism, seeks truth from facts, and centers on the people. In this epidemic report, it leveraged its own advantages, developed in a differentiated way from mainstream media, and achieved complementary advantages. Through explaining reporting frameworks, it scientifically and rationally analyzed various public opinion hotspots, guided the audience to produce positive emotions, alleviated social contradictions, and proposed feasible future solutions, highlighting the problem and action-oriented direction of constructive news. However, it still has many shortcomings. Self-media workers need to improve their professionalism, strengthen authoritative sources, invite professional experts to oversee, improve the program format, and appropriately coordinate the sensitive relationship between commercial marketing and constructive news to better play the role of self-media in reporting major public events.' His analysis hits the mark in terms of the overall positive development direction of self-media commentary."
   ]
  }
 ],
 "metadata": {
  "kernelspec": {
   "display_name": "Python 3",
   "language": "python",
   "name": "python3"
  },
  "language_info": {
   "name": "python",
   "version": "3.9.17"
  }
 },
 "nbformat": 4,
 "nbformat_minor": 5
}
